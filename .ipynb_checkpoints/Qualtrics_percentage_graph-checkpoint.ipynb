{
 "cells": [
  {
   "cell_type": "code",
   "execution_count": 27,
   "metadata": {},
   "outputs": [],
   "source": [
    "import pandas as pd\n",
    "import matplotlib.pyplot as plt"
   ]
  },
  {
   "cell_type": "code",
   "execution_count": 28,
   "metadata": {},
   "outputs": [],
   "source": [
    "data = pd.read_csv('qualtrics_03_06.csv')"
   ]
  },
  {
   "cell_type": "code",
   "execution_count": 29,
   "metadata": {},
   "outputs": [],
   "source": [
    "by_rep = pd.Series(\"No-repair(Conditon 1 and 2)\" if ((i==1) or (i==2)) else \"Repair(Condition 3 and 4)\" for i in data['Participant study:'])\n",
    "data['repair'] = by_rep"
   ]
  },
  {
   "cell_type": "code",
   "execution_count": 30,
   "metadata": {},
   "outputs": [],
   "source": [
    "sanity_dict = {1:3,2:1,3:3,4:1}\n",
    "sanity_dict_2 = {1:5,2:5,3:4,4:4}\n",
    "data_sanity_check = data[[sanity_dict[data['Participant study:'][i]] == data['Did this voice agent ever make a mistake?'][i] for i in range(0,(len(data)))]]\n",
    "data_sanity_check_2 = data_sanity_check[[sanity_dict_2[data_sanity_check['Participant study:'][i]] \n",
    "                                         == data_sanity_check['Did this agent ever try to repair a mistake it made?'][i] for i in data_sanity_check.index]]\n"
   ]
  },
  {
   "cell_type": "code",
   "execution_count": 31,
   "metadata": {},
   "outputs": [],
   "source": [
    "data = data_sanity_check_2"
   ]
  },
  {
   "cell_type": "code",
   "execution_count": 33,
   "metadata": {},
   "outputs": [
    {
     "name": "stdout",
     "output_type": "stream",
     "text": [
      "condition one: 17 participants\n",
      "condition two: 12 participants\n",
      "condition three: 10 participants\n",
      "condition four: 16 participants\n"
     ]
    }
   ],
   "source": [
    "print('condition one: ' + str(len(data[data[data.columns[1]]==1])) + ' participants')\n",
    "print('condition two: ' + str(len(data[data[data.columns[1]]==2])) + ' participants')\n",
    "print('condition three: ' + str(len(data[data[data.columns[1]]==3])) + ' participants')\n",
    "print('condition four: ' + str(len(data[data[data.columns[1]]==4])) + ' participants')"
   ]
  },
  {
   "cell_type": "code",
   "execution_count": 92,
   "metadata": {},
   "outputs": [],
   "source": [
    "def line_graph(formulas, x_range):\n",
    "    for formula in formulas:\n",
    "        x = np.array(x_range)  \n",
    "        y = eval(formula)\n",
    "        plt.title(\"This voice agent made me feel: - Successful.\")\n",
    "        plt.plot(x, y)  \n",
    "    plt.xlabel(\"Percentage of Condition 1 or 3\")\n",
    "    plt.ylabel(\"Qualtrics Score\")\n",
    "    plt.legend(['No repair','Repair'])\n",
    "    plt.show()"
   ]
  },
  {
   "cell_type": "code",
   "execution_count": 81,
   "metadata": {},
   "outputs": [],
   "source": [
    "len_1 = len(data[data[data.columns[1]]==1])\n",
    "len_2 = len(data[data[data.columns[1]]==2])\n",
    "len_3 = len(data[data[data.columns[1]]==3])\n",
    "len_4 = len(data[data[data.columns[1]]==4])"
   ]
  },
  {
   "cell_type": "code",
   "execution_count": 82,
   "metadata": {},
   "outputs": [],
   "source": [
    "c1_average = np.average(data[data[\"Participant study:\"]==1][\"This voice agent made me feel: - Successful.\"])\n",
    "c2_average = np.average(data[data['Participant study:']==2]['This voice agent made me feel: - Successful.'])"
   ]
  },
  {
   "cell_type": "code",
   "execution_count": 83,
   "metadata": {},
   "outputs": [],
   "source": [
    "c3_average = np.average(data[data[\"Participant study:\"]==3][\"This voice agent made me feel: - Successful.\"])\n",
    "c4_average = np.average(data[data['Participant study:']==4]['This voice agent made me feel: - Successful.'])"
   ]
  },
  {
   "cell_type": "code",
   "execution_count": 94,
   "metadata": {},
   "outputs": [
    {
     "data": {
      "image/png": "[encoded data removed]",
      "text/plain": [
       "<Figure size 432x288 with 1 Axes>"
      ]
     },
     "metadata": {
      "needs_background": "light"
     },
     "output_type": "display_data"
    }
   ],
   "source": [
    "line_graph(['(c1_average*x)+c2_average*(1-x)','(c3_average*x)+c4_average*(1-x)'],[0,1])"
   ]
  },
  {
   "cell_type": "markdown",
   "metadata": {},
   "source": [
    "### Explanation\n",
    "\n",
    "X value represents the proportion of \"No mistake\" score. (For the orange line, condition 3 and for the blue line condition 1). When the X value is zero, it means that the weights for condition 1 and condition 3 are both zero, thus the weights for condition 2 and 4 are 1. So, the scores at x = 0 represents the average score of condition 2 for the blue line and condition 4 for the orange line. (Vice versa when x = 1, In this case, the weights for condition 1 and condition 3 are one). From observing the cross section of blue and orange line, we can see that the score of no-repair(condition 1 and condition 2) will exceed the score of repair (condition 3 and 4) when the proportion of \"No mistake\" exceeds 90 percent. (proprotion of mistake is less than 10 percent).\n",
    "\n",
    "\n"
   ]
  }
 ],
 "metadata": {
  "kernelspec": {
   "display_name": "Python 3",
   "language": "python",
   "name": "python3"
  },
  "language_info": {
   "codemirror_mode": {
    "name": "ipython",
    "version": 3
   },
   "file_extension": ".py",
   "mimetype": "text/x-python",
   "name": "python",
   "nbconvert_exporter": "python",
   "pygments_lexer": "ipython3",
   "version": "3.6.6"
  }
 },
 "nbformat": 4,
 "nbformat_minor": 2
}
